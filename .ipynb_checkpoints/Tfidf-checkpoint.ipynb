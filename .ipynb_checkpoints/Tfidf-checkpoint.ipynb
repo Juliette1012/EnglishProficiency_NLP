{
 "cells": [
  {
   "cell_type": "code",
   "execution_count": 6,
   "metadata": {},
   "outputs": [],
   "source": [
    "import numpy as np\n",
    "import pickle\n",
    "import os\n",
    "from sklearn.model_selection import train_test_split\n",
    "from sklearn.feature_extraction.text import TfidfVectorizer\n",
    "\n",
    "from sklearn.svm import LinearSVC\n",
    "from sklearn import naive_bayes, svm\n",
    "from sklearn.model_selection import GridSearchCV\n",
    "\n",
    "from sklearn import metrics\n",
    "\n",
    "import collections\n",
    "import matplotlib.pyplot as plt"
   ]
  },
  {
   "cell_type": "code",
   "execution_count": 7,
   "metadata": {},
   "outputs": [],
   "source": [
    "CURR_DIR = os.getcwd()"
   ]
  },
  {
   "cell_type": "markdown",
   "metadata": {},
   "source": [
    "# Load the Databasa Dictionary created after preprocessing"
   ]
  },
  {
   "cell_type": "code",
   "execution_count": 8,
   "metadata": {},
   "outputs": [
    {
     "name": "stdout",
     "output_type": "stream",
     "text": [
      "Database 'database_dictionary.pickle' is load.\n"
     ]
    }
   ],
   "source": [
    "# We load the database_dictionary created with the module preprocessing\n",
    "pickle_in = open(\"database_dictionary.pickle\", \"rb\")\n",
    "database = pickle.load(pickle_in)\n",
    "pickle_in.close()\n",
    "print(\"Database 'database_dictionary.pickle' is load.\")"
   ]
  },
  {
   "cell_type": "code",
   "execution_count": 9,
   "metadata": {},
   "outputs": [
    {
     "name": "stdout",
     "output_type": "stream",
     "text": [
      "Original dataset, occurences of different classes of SST:\n",
      " Counter({4: 483, 5: 235, 3: 222, 6: 131, 7: 75, 8: 56, 9: 40, 2: 35, 1: 3})\n"
     ]
    }
   ],
   "source": [
    "dict_database = database.items()\n",
    "\n",
    "sst_scores = []\n",
    "for file in dict_database : \n",
    "    sst_scores.append(file[1][1])\n",
    "\n",
    "occurences = collections.Counter(sst_scores)\n",
    "print('Original dataset, occurences of different classes of SST:\\n', occurences)"
   ]
  },
  {
   "cell_type": "code",
   "execution_count": 10,
   "metadata": {},
   "outputs": [
    {
     "data": {
      "text/plain": [
       "<BarContainer object of 9 artists>"
      ]
     },
     "execution_count": 10,
     "metadata": {},
     "output_type": "execute_result"
    },
    {
     "data": {
      "image/png": "[encoded data removed]",
      "text/plain": [
       "<Figure size 432x288 with 1 Axes>"
      ]
     },
     "metadata": {
      "needs_background": "light"
     },
     "output_type": "display_data"
    }
   ],
   "source": [
    "plt.bar(occurences.keys(), occurences.values())"
   ]
  },
  {
   "cell_type": "markdown",
   "metadata": {},
   "source": [
    "Nous avons une répartition gaussienne des scores. \n",
    "Les fichiers de score SST 1 notemment sont en sous-représentation : 3 seulement. \n",
    "Il faudrait faire de l'oversampling et de l'undersampling si on souhaiterait que notre modèle puisse également bien prédire ces classes de score SST comme la classe 1 et 2 et 9 par exemple.\n",
    "On peut voir que les fichiers de score SST 4 sont représentés en plus grande quantité que les autres fichiers. "
   ]
  },
  {
   "cell_type": "markdown",
   "metadata": {},
   "source": [
    "# Only with score SST classes 4 5 6 et 7"
   ]
  },
  {
   "cell_type": "code",
   "execution_count": 14,
   "metadata": {},
   "outputs": [],
   "source": [
    "X = []\n",
    "y = []\n",
    "\n",
    "dict_database = database.items()\n",
    "\n",
    "for file in dict_database :\n",
    "    sst = int(file[1][1])\n",
    "    \n",
    "    # Because Original dataset, occurences of different classes of SST :\n",
    "    # Répartition gaussienne\n",
    "    # Si prédire ces valuers importantes : undersampling, oversampling\n",
    "    # Counter({4: 483, 5: 235, 3: 222, 6: 131, 7: 75, 8: 56, 9: 40, 2: 35, 1: 3}\n",
    "    # 1763 files\n",
    "    if sst > 2 and sst < 8 :\n",
    "        # output of the TfidfVectorizer\n",
    "        y.append(file[1][1])\n",
    "        # input : all the words of the file\n",
    "        X.append(\" \".join([w for w in file[1][0]]))\n",
    "\n",
    "X = np.array(X)\n",
    "y = np.array(y)"
   ]
  },
  {
   "cell_type": "code",
   "execution_count": 15,
   "metadata": {},
   "outputs": [
    {
     "name": "stdout",
     "output_type": "stream",
     "text": [
      "Original dataset shape, occurences of different classes :\n",
      " Counter({4: 483, 5: 235, 3: 222, 6: 131, 7: 75})\n"
     ]
    }
   ],
   "source": [
    "import collections\n",
    "\n",
    "occurences = collections.Counter(y)\n",
    "print('Original dataset, occurences of different classes of SST:\\n', occurences)"
   ]
  },
  {
   "cell_type": "code",
   "execution_count": 17,
   "metadata": {},
   "outputs": [
    {
     "name": "stdout",
     "output_type": "stream",
     "text": [
      "Length train_tfidf :  916\n",
      "Length val_tf_idf :  230\n"
     ]
    }
   ],
   "source": [
    "# Create 2 different sets : training set (80%) and testing set (20%)\n",
    "X_train, X_val, y_train, y_val = train_test_split(X, y, test_size=0.20, shuffle=True)\n",
    "\n",
    "vectorizer_tfidf = TfidfVectorizer(use_idf=True)\n",
    "\n",
    "train_tfidf = vectorizer_tfidf.fit_transform(X_train).toarray()\n",
    "\n",
    "# We not refit tfidf-vectorizer because validation set use the same vectorizer with the same vocabulary shape to encode data.\n",
    "val_tf_idf = vectorizer_tfidf.transform(X_val).toarray()\n",
    "\n",
    "print(\"Length train_tfidf : \", len(train_tfidf))\n",
    "print(\"Length val_tf_idf : \", len(val_tf_idf))"
   ]
  },
  {
   "cell_type": "code",
   "execution_count": 18,
   "metadata": {},
   "outputs": [
    {
     "name": "stdout",
     "output_type": "stream",
     "text": [
      "Meilleur classifieur\n",
      " SVC(C=5, kernel='linear')\n",
      "Matrice de confusion\n",
      " [[19 25  1  0  0]\n",
      " [11 74 11  0  0]\n",
      " [ 2 29 19  1  2]\n",
      " [ 0  4 11  7  2]\n",
      " [ 0  0  0  7  5]]\n",
      "Précision, sensibilité, f-score\n",
      "               precision    recall  f1-score   support\n",
      "\n",
      "           3       0.59      0.42      0.49        45\n",
      "           4       0.56      0.77      0.65        96\n",
      "           5       0.45      0.36      0.40        53\n",
      "           6       0.47      0.29      0.36        24\n",
      "           7       0.56      0.42      0.48        12\n",
      "\n",
      "    accuracy                           0.54       230\n",
      "   macro avg       0.53      0.45      0.48       230\n",
      "weighted avg       0.53      0.54      0.52       230\n",
      "\n"
     ]
    }
   ],
   "source": [
    "parameters ={'kernel':('linear','rbf'),'C':[1,5,10,20]}\n",
    "svm_clf = svm.SVC()\n",
    "\n",
    "# !!!! Attention adapter njob à votre machine !!!!!\n",
    "grid_clf = GridSearchCV(svm_clf, parameters, n_jobs=8, cv = 2)\n",
    "grid_clf.fit(train_tfidf, y_train)\n",
    "\n",
    "y_predict = grid_clf.best_estimator_.predict(val_tf_idf)\n",
    "print(\"Meilleur classifieur\\n\", grid_clf.best_estimator_)\n",
    "print(\"Matrice de confusion\\n\", metrics.confusion_matrix(y_val, y_predict))\n",
    "print(\"Précision, sensibilité, f-score\\n\", metrics.classification_report(y_val, y_predict))"
   ]
  },
  {
   "cell_type": "code",
   "execution_count": 19,
   "metadata": {},
   "outputs": [],
   "source": [
    "def svc_param_selection(X, y):\n",
    "    Cs = [0.001, 0.01, 0.1, 1, 10]\n",
    "    gammas = [0.001, 0.01, 0.1, 1]\n",
    "    param_grid = {'C': Cs, 'gamma' : gammas}\n",
    "    grid_search = GridSearchCV(svm.SVC(kernel='rbf'), param_grid, n_jobs=4)\n",
    "    grid_search.fit(X, y)\n",
    "    grid_search.best_params_\n",
    "    return grid_search.best_params_"
   ]
  },
  {
   "cell_type": "code",
   "execution_count": 20,
   "metadata": {},
   "outputs": [
    {
     "data": {
      "text/plain": [
       "{'C': 10, 'gamma': 1}"
      ]
     },
     "execution_count": 20,
     "metadata": {},
     "output_type": "execute_result"
    }
   ],
   "source": [
    "svc_param_selection(train_tfidf, y_train)"
   ]
  },
  {
   "cell_type": "code",
   "execution_count": 23,
   "metadata": {},
   "outputs": [
    {
     "name": "stdout",
     "output_type": "stream",
     "text": [
      "Matrice de confusion\n",
      " [[20 24  1  0  0]\n",
      " [14 73  8  1  0]\n",
      " [ 2 28 21  1  1]\n",
      " [ 0  3 11  8  2]\n",
      " [ 0  1  0  6  5]]\n",
      "Précision, sensibilité, f-score\n",
      "               precision    recall  f1-score   support\n",
      "\n",
      "           3       0.56      0.44      0.49        45\n",
      "           4       0.57      0.76      0.65        96\n",
      "           5       0.51      0.40      0.45        53\n",
      "           6       0.50      0.33      0.40        24\n",
      "           7       0.62      0.42      0.50        12\n",
      "\n",
      "    accuracy                           0.55       230\n",
      "   macro avg       0.55      0.47      0.50       230\n",
      "weighted avg       0.55      0.55      0.54       230\n",
      "\n"
     ]
    }
   ],
   "source": [
    "SVM = svm.SVC(C=10.0, kernel='linear', gamma=1)\n",
    "SVM.fit(train_tfidf,y_train)# predict the labels on validation dataset\n",
    "predictions_SVM = SVM.predict(val_tf_idf)# Use accuracy_score function to get the accuracy\n",
    "print(\"Matrice de confusion\\n\", metrics.confusion_matrix(y_val, predictions_SVM))\n",
    "print(\"Précision, sensibilité, f-score\\n\", metrics.classification_report(y_val, predictions_SVM))"
   ]
  },
  {
   "cell_type": "code",
   "execution_count": null,
   "metadata": {},
   "outputs": [],
   "source": []
  }
 ],
 "metadata": {
  "kernelspec": {
   "display_name": "Python 3",
   "language": "python",
   "name": "python3"
  },
  "language_info": {
   "codemirror_mode": {
    "name": "ipython",
    "version": 3
   },
   "file_extension": ".py",
   "mimetype": "text/x-python",
   "name": "python",
   "nbconvert_exporter": "python",
   "pygments_lexer": "ipython3",
   "version": "3.6.12"
  }
 },
 "nbformat": 4,
 "nbformat_minor": 4
}
