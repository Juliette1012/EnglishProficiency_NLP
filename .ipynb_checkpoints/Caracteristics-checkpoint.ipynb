{
 "cells": [
  {
   "cell_type": "code",
   "execution_count": 1,
   "metadata": {},
   "outputs": [],
   "source": [
    "import pickle\n",
    "import os"
   ]
  },
  {
   "cell_type": "code",
   "execution_count": 2,
   "metadata": {},
   "outputs": [],
   "source": [
    "CURR_DIR = os.getcwd()"
   ]
  },
  {
   "cell_type": "markdown",
   "metadata": {},
   "source": [
    "# Load the Database Dictionary created after preprocessing"
   ]
  },
  {
   "cell_type": "code",
   "execution_count": 3,
   "metadata": {},
   "outputs": [
    {
     "name": "stdout",
     "output_type": "stream",
     "text": [
      "Database 'database_dictionary.pickle' is load.\n"
     ]
    }
   ],
   "source": [
    "# We load the database_dictionary created with the module preprocessing\n",
    "pickle_in = open(\"database_dictionary.pickle\", \"rb\")\n",
    "database = pickle.load(pickle_in)\n",
    "pickle_in.close()\n",
    "print(\"Database 'database_dictionary.pickle' is load.\")"
   ]
  },
  {
   "cell_type": "code",
   "execution_count": 7,
   "metadata": {},
   "outputs": [
    {
     "name": "stdout",
     "output_type": "stream",
     "text": [
      "\n",
      "Words of a file with score SST = 4 :\n",
      " ['name', 'yes', 'fine', 'yes', 'yes', 'yes', 'er', 'bread', 'coffee', 'ham', 'ham', 'aa', 'bread', 'ham', 'drank', 'coffee', 'yes', 'ah', 'like', 'rice', 'better', 'bread', 'yes', 'ah', 'morning', 'busy', 'laughter', 'cook', 'bread', 'er', 'easy', 'rice', 'live', 'family', 'er', 'family', 'er', 'husband', 'dog', 'laughter', 'yes', 'ah', 'dog', 'er', 'dog', 'six', 'old', 'er', 'favorite', 'food', 'cheese', 'walking', 'walking', 'walking', 'around', 'er', 'near', 'house', 'husband', 'ah', 'yeah', 'er', 'bought', 'pet', 'shop', 'department', 'store', 'er', 'hobby', 'reading', 'book', 'making', 'ah', 'gardening', 'watch', 'movie', 'er', 'walking', 'dog', 'ah', 'yeah', 'best', 'movie', 'green', 'mile', 'one', 'one', 'best', 'green', 'mile', 'field', 'er', 'green', 'mile', 'watched', 'green', 'mile', 'ah', 'last', 'last', 'month', 'made', 'er', 'forgot', 'laughter', 'laughter', 'yeah', 'fine', 'day', 'five', 'five', 'big', 'um', 'man', 'reading', 'newspaper', 'girl', 'um', 'man', 'running', 'hard', 'um', 'two', 'passing', 'ball', 'cough', 'cat', 'car', 'white', 'car', 'two', 'saying', 'three', 'dogs', 'yeah', 'oh', 'sweat', 'ah', 'er', 'yeah', 'yeah', 'sweat', 'laughter', 'er', 'yeah', 'wide', 'ah', 'house', 'big', 'nice', 'nice', 'neighborhood', 'neighborhood', 'ah', 'neighborhood', 'small', 'house', 'arent', 'er', 'little', 'like', 'park', 'little', 'park', 'yeah', 'yes', 'er', 'id', 'like', 'go', 'new', 'york', 'er', 'want', 'ticket', 'new', 'york', 'ah', 'train', 'train', 'ticket', 'express', 'ah', 'id', 'like', 'express', 'train', 'ticket', 'please', 'yes', 'k', 'thank', 'yes', 'like', 'like', 'trip', 'um', 'train', 'car', 'last', 'trip', 'ah', 'last', 'trip', 'yesterday', 'went', 'er', 'wedding', 'ceremony', 'er', 'ah', 'wedding', 'ceremony', 'cousin', 'last', 'last', 'wedding', 'ceremony', 'ha', 'last', 'went', 'last', 'er', 'wedding', 'ceremony', 'finished', 'six', 'er', 'go', 'back', 'day', 'stay', 'day', 'go', 'back', 'home', 'er', 'yesterday', 'yes', 'one', 'day', 'last', 'week', 'ah', 'one', 'day', 'last', 'week', 'one', 'day', 'last', 'week', 'refrigerator', 'er', 'ah', 'refrigerator', 'empty', 'went', 'supermarket', 'er', 'car', 'buy', 'ah', 'buy', 'ah', 'ah', 'buy', 'um', 'grocery', 'cook', 'money', 'money', 'er', 'grocery', 'car', 'grocery', 'ah', 'fry', 'egg', 'yeah', 'e', 'e', 'ah', 'ah', 'usually', 'er', 'going', 'shop', 'bicycle', 'dont', 'car', 'license', 'bicycle', 'convenience', 'car', 'ah', 'yeah', 'ah', 'um', 'ah', 'supermarket', 'er', 'big', 'parking', 'looking', 'park', 'space', 'park', 'space', 'hard', 'tonight', 'laughter', 'decided', 'er', 'husband', 'husband', 'husband', 'er', 'go', 'back', 'house', 'ah', 'late', 'er', 'today', 'um', 'may', 'ah', 'maybe', 'er', 'eat', 'er', 'dinner', 'alone', 'er', 'cook', 'easily', 'laughter', 'thank']\n",
      "\n",
      "Words of a file with score SST = 4 :\n",
      " ['hello', 'er', 'name', 'k', 'er', 'pardon', 'laughter', 'ah', 'fine', 'thank', 'er', 'yes', 'er', 'er', 'er', 'near', 'office', 'yes', 'yes', 'ah', 'shop', 'live', 'city', 'city', 'er', 'er', 'near', 'er', 'building', 'work', 'office', 'er', 'forty', 'er', 'er', 'live', 'er', 'er', 'alone', 'er', 'yes', 'er', 'cough', 'maybe', 'environment', 'better', 'er', 'dont', 'like', 'snow', 'laughter', 'like', 'maybe', 'er', 'like', 'better', 'yes', 'er', 'family', 'live', 'er', 'cough', 'er', 'old', 'elder', 'brother', 'mother', 'er', 'mother', 'lived', 'er', 'er', 'er', 'live', 'separately', 'er', 'ah', 'havent', 'separately', 'cough', 'usually', 'come', 'ah', 'go', 'twice', 'year', 'er', 'aa', 'new', 'new', 'season', 'summer', 'vacation', 'yes', 'oh', 'er', 'laughter', 'er', 'yeah', 'stay', 'usually', 'stay', 'house', 'er', 'sometimes', 'er', 'brother', 'err', 'met', 'meet', 'brother', 'er', 'like', 'er', 'like', 'movie', 'yes', 'ah', 'er', 'saw', 'ah', 'mission', 'maybe', 'er', 'science', 'fiction', 'movie', 'yes', 'er', 'place', 'small', 'town', 'sunny', 'day', 'er', 'people', 'er', 'people', 'people', 'good', 'time', 'er', 'afternoon', 'er', 'people', 'er', 'people', 'talking', 'ball', 'man', 'er', 'take', 'take', 'man', 'taking', 'jog', 'another', 'man', 'er', 'reading', 'newspaper', 'child', 'girl', 'girl', 'er', 'rope', 'thats', 'er', 'dont', 'think', 'er', 'road', 'wide', 'er', 'house', 'picture', 'er', 'house', 'wide', 'er', 'garden', 'er', 'er', 'distance', 'two', 'large', 'dont', 'think', 'japan', 'er', 'yes', 'think', 'er', 'place', 'er', 'good', 'live', 'live', 'live', 'er', 'quiet', 'er', 'quiet', 'er', 'yes', 'er', 'cough', 'er', 'id', 'like', 'go', 'new', 'york', 'train', 'er', 'yes', 'er', 'er', 'ah', 'train', 'er', 'fast', 'get', 'new', 'york', 'express', 'express', 'ticket', 'er', 'er', 'er', 'express', 'ah', 'express', 'start', 'er', 'next', 'three', 'er', 'er', 'ah', 'arrive', 'new', 'york', 'five', 'er', 'er', 'train', 'express', 'er', 'local', 'train', 'aa', 'local', 'train', 'er', 'arrive', 'new', 'york', 'four', 'oclock', 'oh', 'yes', 'local', 'train', 'ticket', 'buy', 'ah', 'thank', 'much', 'thank', 'ah', 'k', 'k', 'much', 'five', 'twenty', 'five', 'thank', 'much', 'er', 'yes', 'er', 'yes', 'ah', 'united', 'ah', 'laughter', 'er', 'went', 'er', 'ten', 'ago', 'ah', 'motto', 'er', 'university', 'student', 'er', 'er', 'cough', 'climate', 'climate', 'mild', 'er', 'went', 'er', 'winter', 'climate', 'mild', 'er', 'like', 'ah', 'yes', 'ah', 'yes', 'er', 'er', 'man', 'laughter', 'man', 'imitate', 'er', 'go', 'date', 'prepared', 'er', 'beautiful', 'car', 'er', 'er', 'ah', 'went', 'zoo', 'ah', 'er', 'er', 'er', 'good', 'time', 'zoo', 'saw', 'lion', 'lion', 'laughter', 'saw', 'mon', 'er', 'laughter', 'er', 'er', 'spend', 'spent', 'best', 'time', 'zoo', 'thought', 'date', 'successful', 'yeah', 'think', 'sometimes', 'er', 'girl', 'dont', 'like', 'animal', 'laughter', 'sometimes', 'er', 'dont', 'think', 'movie', 'theater', 'er', 'movie', 'theater', 'amusement', 'park', 'shopping', 'er', 'laughter', 'like', 'shopping', 'er', 'dont', 'like', 'long', 'long', 'time', 'shopping', 'er', 'like', 'shopping', 'er', 'dont', 'like', 'wait', 'laughter', 'er', 'ah', 'sho', 'shopping', 'er', 'yeah', 'particularly', 'yes', 'ah', 'laughter', 'saw', 'two', 'two', 'ago', 'good', 'yes', 'yes', 'ah', 'dont', 'rainy', 'season', 'er', 'air', 'dry', 'good', 'good', 'summer', 'ah', 'er', 'go', 'month', 'er', 'er', 'er', 'reason', 'thank']\n",
      "\n",
      "Words of a file with score SST = 4 :\n",
      " ['hello', 'name', 'nice', 'meet', 'k', 'c', 'came', 'school', 'train', 'walk', 'one', 'hour', 'er', 'live', 'know', 'laughter', 'um', 'live', 'er', 'live', 'alone', 'dont', 'know', 'um', 'well', 'yes', 'want', 'meet', 'family', 'sister', 'sister', 'sister', 'um', 'b', 'good', 'boy', 'tenth', 'want', 'see', 'laughter', 'name', 'call', 'family', 'ha', 'um', 'family', 'father', 'happy', 'um', 'hobby', 'watch', 'um', 'recently', 'dont', 'watch', 'movie', 'busy', 'like', 'um', 'friend', 'forever', 'know', 'laughter', 'pardon', 'um', 'grandfather', 'seven', 'ago', 'watched', 'movie', 'remind', 'forget', 'dont', 'forget', 'movie', 'major', 'economics', 'want', 'journalist', 'thought', 'study', 'economics', 'see', 'social', 'social', 'laughter', 'describe', 'one', 'teacher', 'six', 'student', 'room', 'teacher', 'teach', 'er', 'student', 'dont', 'listen', 'boy', 'drink', 'two', 'talking', 'one', 'boy', 'study', 'hard', 'think', 'laughter', 'student', 'laughter', 'eh', 'eh', 'look', 'old', 'laughter', 'um', 'yes', 'yes', 'university', 'dont', 'listen', 'speaking', 'want', 'study', 'hard', 'um', 'cant', 'listen', 'speaking', 'um', 'next', 'next', 'next', 'lunch', 'time', 'study', 'laughter', 'teacher', 'um', 'similar', 'occasion', 'pardon', 'boring', 'boring', 'laughter', 'train', 'station', 'yes', 'k', 'ex', 'want', 'go', 'new', 'york', 'dont', 'know', 'ticket', 'tell', 'eh', 'please', 'want', 'go', 'new', 'york', 'please', 'give', 'ticket', 'express', 'train', 'please', 'two', 'oclock', 'long', 'take', 'local', 'local', 'train', 'two', 'time', 'twelve', 'oh', 'see', 'long', 'take', 'express', 'train', 'one', 'hour', 'k', 'please', 'give', 'local', 'train', 'ticket', 'twenty', 'k', 'thank', 'yes', 'summer', 'went', 'family', 'go', 'um', 'amusement', 'park', 'one', 'day', 'last', 'week', 'story', 'make', 'story', 'one', 'day', 'last', 'week', 'um', 'woman', 'go', 'near', 'house', 'near', 'h', 'near', 'house', 'bought', 'tie', 'birthday', 'um', 'thirty', 'back', 'home', 'found', 'final', 'sale', 'sale', 'clothes', 'thought', 'chance', 'bought', 'many', 'clothes', 'like', 'shop', 'er', 'fantastic', 'laughter', 'k', 'yes', 'old', 'f', 'friend', 'ca', 'come', 'come', 'see', 'meet', 'thank', 'thank', 'much']\n",
      "\n",
      "Words of a file with score SST = 9 :\n",
      " ['yes', 'name', 'nice', 'meet', 'live', 'less', 'hour', 'ur', 'actually', 'quite', 'ur', 'know', 'big', 'university', 'may', 'know', 'many', 'also', 'many', 'guess', 'many', 'young', 'people', 'around', 'also', 'would', 'say', 'oh', 'thats', 'know', 'singer', 'ur', 'around', 'kind', 'well', 'nice', 'safe', 'laughter', 'kind', 'active', 'place', 'nice', 'place', 'live', 'live', 'husband', 'actually', 'last', 'summer', 'fairly', 'new', 'laughter', 'dont', 'know', 'around', 'enjoying', 'stay', 'problem', 'little', 'far', 'know', 'center', 'er', 'yes', 'well', 'well', 'like', 'ordinary', 'man', 'laughter', 'ordinary', 'type', 'goes', 'work', 'er', 'every', 'weekday', 'rare', 'go', 'work', 'ur', 'well', 'usual', 'comes', 'back', 'home', 'late', 'laughter', 'oh', 'ur', 'usually', 'dont', 'profession', 'go', 'school', 'center', 'quite', 'away', 'live', 'er', 'mostly', 'er', 'twice', 'week', 'maybe', 'school', 'go', 'well', 'free', 'time', 'go', 'well', 'sometimes', 'go', 'tennis', 'husband', 'know', 'sometimes', 'visit', 'theyre', 'know', 'say', 'hello', 'feel', 'comfortable', 'actually', 'living', 'quite', 'know', 'central', 'district', 'quite', 'convenient', 'go', 'school', 'go', 'school', 'ur', 'supposed', 'try', 'study', 'interpretation', 'really', 'tough', 'time', 'language', 'bit', 'ur', 'know', 'political', 'economic', 'vary', 'happen', 'thats', 'kind', 'difficult', 'study', 'well', 'thing', 'well', 'even', 'listen', 'understand', 'really', 'understand', 'sometimes', 'translation', 'unless', 'really', 'understand', 'know', 'difficult', 'translate', 'surface', 'bit', 'k', 'guess', 'somewhere', 'skiing', 'resort', 'ur', 'well', 'obviously', 'left', 'hand', 'side', 'fun', 'er', 'throwing', 'snow', 'guess', 'game', 'also', 'couple', 'tea', 'probably', 'cold', 'outside', 'warming', 'also', 'people', 'enjoying', 'skiing', 'guess', 'also', 'usual', 'people', 'fall', 'snow', 'oh', 'people', 'guess', 'ski', 'also', 'well', 'seeing', 'left', 'many', 'people', 'guess', 'scene', 'quite', 'crowded', 'maybe', 'crowded', 'well', 'got', 'married', 'used', 'go', 'skiing', 'nowadays', 'dont', 'rather', 'going', 'tennis', 'husband', 'doesnt', 'like', 'cold', 'place', 'laughter', 'guess', 'well', 'winter', 'sports', 'fun', 'course', 'know', 'get', 'need', 'get', 'ready', 'everything', 'go', 'cold', 'know', 'get', 'many', 'many', 'ea', 'easier', 'summer', 'sports', 'know', 'dont', 'wear', 'much', 'way', 'think', 'summer', 'sports', 'convenient', 'laughter', 'k', 'yes', 'tour', 'found', 'something', 'quite', 'different', 'actual', 'program', 'actual', 'agenda', 'got', 'pamphlet', 'could', 'please', 'tell', 'yes', 'well', 'er', 'pamphlet', 'would', 'collect', 'er', 'us', 'airport', 'car', 'individual', 'car', 'actual', 'agen', 'er', 'schedule', 'pick', 'us', 'group', 'bus', 'well', 'well', 'know', 'husband', 'really', 'er', 'really', 'looking', 'forward', 'going', 'since', 'honeymoon', 'something', 'disappointing', 'us', 'could', 'please', 'something', 'alternative', 'arrangement', 'anything', 'would', 'cost', 'something', 'since', 'actual', 'thing', 'different', 'really', 'pamphlet', 'honestly', 'speaking', 'think', 'rather', 'fault', 'agency', 'could', 'please', 'consider', 'discount', 'something', 'well', 'please', 'consider', 'mean', 'really', 'dont', 'want', 'really', 'bother', 'much', 'want', 'make', 'trip', 'enjoyable', 'memorable', 'one', 'dont', 'want', 'ugly', 'feeling', 'laughter', 'k', 'ill', 'looking', 'forward', 'hearing', 'k', 'thank', 'yes', 'didnt', 'go', 'expensive', 'tour', 'anything', 'like', 'went', 'ur', 'bought', 'cheap', 'air', 'ticket', 'went', 'met', 'friend', 'everything', 'laughter', 'cost', 'cheap', 'enjoy', 'well', 'since', 'make', 'werent', 'quite', 'sure', 'know', 'busy', 'working', 'time', 'like', 'get', 'plane', 'didnt', 'way', 'like', 'wondering', 'much', 'complication', 'thing', 'wondering', 'people', 'went', 'know', 'guess', 'usually', 'major', 'place', 'fun', 'well', 'well', 'may', 'werent', 'group', 'tour', 'ur', 'wandering', 'around', 'town', 'really', 'didnt', 'anything', 'particular', 'schedule', 'enjoying', 'scenery', 'know', 'sometimes', 'talking', 'really', 'anything', 'special', 'atmosphere', 'yes', 'k', 'man', 'driving', 'usual', 'daily', 'routine', 'side', 'came', 'ur', 'motor', 'scooter', 'guy', 'er', 'actually', 'speaking', 'car', 'turning', 'left', 'closed', 'ur', 'close', 'hit', 'ur', 'motorcycle', 'well', 'actually', 'lucky', 'enough', 'didnt', 'actually', 'collide', 'guess', 'person', 'motor', 'car', 'motorcycle', 'shock', 'er', 'hit', 'car', 'broken', 'person', 'er', 'driving', 'motorcycle', 'quite', 'angry', 'really', 'really', 'nice', 'conversation', 'went', 'driver', 'car', 'ur', 'phone', 'broken', 'actually', 'driver', 'wasnt', 'accused', 'wasnt', 'really', 'er', 'fault', 'well', 'part', 'maybe', 'hundred', 'per', 'cent', 'well', 'accident', 'police', 'guess', 'evidence', 'getting', 'proof', 'accident', 'person', 'driving', 'motorcycle', 'still', 'angry', 'fact', 'broken', 'car', 'driver', 'car', 'attitude', 'fact', 'actually', 'speaking', 'phone', 'driving', 'car', 'driver', 'policeman', 'course', 'illegal', 'use', 'driving', 'guess', 'policeman', 'agreed', 'car', 'agreement', 'er', 'argument', 'motorcycle', 'taken', 'away', 'guess', 'way', 'punishment', 'guess', 'well', 'actually', 'one', 'one', 'dont', 'laughter', 'guess', 'quite', 'weird', 'amazed', 'dont', 'student', 'know', 'people', 'world', 'wasnt', 'used', 'know', 'general', 'public', 'think', 'convenient', 'thing', 'meet', 'like', 'late', 'ten', 'something', 'call', 'friend', 'say', 'late', 'wait', 'another', 'ten', 'thats', 'think', 'happening', 'today', 'people', 'know', 'call', 'inform', 'know', 'past', 'like', 'something', 'v', 'program', 'used', 'like', 'guy', 'waiting', 'back', 'tree', 'something', 'meet', 'kind', 'love', 'story', 'happen', 'past', 'guess', 'nowadays', 'dont', 'think', 'would', 'happen', 'well', 'course', 'convenient', 'one', 'thing', 'concerned', 'like', 'ur', 'father', 'little', 'problem', 'heart', 'er', 'doesnt', 'pacemaker', 'moment', 'doctor', 'said', 'day', 'consider', 'one', 'dont', 'know', 'know', 'nothing', 'know', 'medical', 'wondering', 'like', 'train', 'would', 'say', 'please', 'turn', 'thing', 'wrong', 'kind', 'little', 'bit', 'worry', 'k', 'thank', 'today', 'well', 'actually', 'interview', 'ill', 'lunch', 'ill', 'go', 'school', 'laughter', 'thank', 'thank', 'k']\n",
      "\n",
      "Words of a file with score SST = 9 :\n",
      " ['hello', 'fine', 'really', 'quit', 'club', 'cheer', 'quit', 'laughter', 'busy', 'quit', 'practice', 'everyday', 'time', 'study', 'yeah', 'quit', 'laughter', 'college', 'favorite', 'subject', 'laughter', 'easier', 'take', 'right', 'yeah', 'yes', 'maam', 'learn', 'lived', 'seven', 'came', 'back', 'year', 'ago', 'well', 'first', 'went', 'third', 'grade', 'lived', 'times', 'lived', 'year', 'yeah', 'year', 'ur', 'wa', 'went', 'speak', 'time', 'yeah', 'able', 'learn', 'cough', 'e', 'l', 'got', 'came', 'tenth', 'grade', 'able', 'classes', 'yeah', 'laughter', 'happy', 'really', 'young', 'third', 'grade', 'even', 'speak', 'around', 'lot', 'laughter', 'spend', 'weekend', 'mostly', 'home', 'watching', 'v', 'homework', 'busy', 'go', 'go', 'shopping', 'laughter', 'stuff', 'like', 'dont', 'really', 'favorite', 'v', 'program', 'like', 'watching', 'ur', 'v', 'like', 'ur', 'come', 'sing', 'ur', 'like', 'music', 'station', 'think', 'thats', 'call', 'laughter', 'yeah', 'like', 'like', 'listening', 'music', 'expensive', 'japan', 'laughter', 'ur', 'went', 'one', 'went', 'fun', 'lot', 'um', 'lot', 'people', 'think', 'concert', 'two', 'yeah', 'fun', 'went', 'little', 'sister', 'laughter', 'sister', 'fourteen', 'back', 'family', 'real', 'real', 'dad', 'mo', 'real', 'step', 'father', 'right', 'far', 'away', 'talk', 'phone', 'laughter', 'keep', 'contact', 'would', 'dont', 'time', 'school', 'right', 'ur', 'school', 'march', 'yeah', 'march', 'laughter', 'well', 'baby', 'back', 'went', 'go', 'see', 'new', 'baby', 'family', 'winter', 'people', 'skiing', 'laughter', 'ur', 'people', 'skiing', 'one', 'person', 'guy', 'fell', 'laughter', 'ski', 'left', 'throwing', 'fun', 'people', 'made', 'snow', 'man', 'people', 'rest', 'house', 'think', 'theyre', 'drinking', 'coffee', 'something', 'something', 'warm', 'laughter', 'laughter', 'theres', 'bunch', 'mountain', 'blue', 'sky', 'blue', 'k', 'ski', 'well', 'went', 'skiing', 'rocky', 'skiing', 'place', 'small', 'one', 'went', 'laughter', 'guess', 'theyre', 'fun', 'guess', 'good', 'skiing', 'place', 'laughter', 'go', 'see', 'people', 'skiing', 'went', 'saw', 'ur', 'like', 'mostly', 'people', 'saw', 'thats', 'one', 'difference', 'laughter', 'oh', 'went', 'didnt', 'snow', 'probably', 'got', 'trouble', 'thats', 'supposed', 'ski', 'skiing', 'place', 'yeah', 'didnt', 'see', 'didnt', 'see', 'tried', 'didnt', 'well', 'laughter', 'fell', 'didnt', 'try', 'long', 'time', 'k', 'laughter', 'loud', 'oh', 'laughter', 'k', 'laughter', 'yes', 'hello', 'well', 'sorry', 'go', 'party', 'apologize', 'something', 'although', 'go', 'party', 'lot', 'nothing', 'could', 'another', 'party', 'time', 'would', 'love', 'go', 'please', 'invite', 'well', 'sorry', 'really', 'go', 'something', 'would', 'love', 'go', 'party', 'please', 'invite', 'laughter', 'oh', 'didnt', 'know', 'sorry', 'really', 'thankful', 'birthday', 'apologize', 'lot', 'go', 'oh', 'really', 'laughter', 'ur', 'open', 'another', 'party', 'laughter', 'sure', 'laughter', 'throw', 'another', 'party', 'laughter', 'ill', 'come', 'laughter', 'well', 'father', 'got', 'sick', 'laughter', 'take', 'care', 'yes', 'think', 'must', 'seen', 'wrong', 'person', 'dad', 'bed', 'laughter', 'yes', 'yes', 'high', 'fever', 'doctor', 'told', 'stay', 'home', 'oh', 'thank', 'right', 'thank', 'right', 'bye', 'laughter', 'ur', 'yes', 'like', 'laughter', 'cough', 'yes', 'ur', 'cough', 'excuse', 'um', 'party', 'lot', 'like', 'people', 'got', 'fight', 'laughter', 'didnt', 'know', 'guess', 'didnt', 'like', 'something', 'giving', 'got', 'fight', 'anything', 'laughter', 'laughter', 'oh', 'mostly', 'little', 'bit', 'laughter', 'yes', 'interesting', 'dont', 'know', 'laughter', 'ur', 'oh', 'cough', 'um', 'went', 'party', 'first', 'time', 'going', 'ur', 'fa', 'party', 'ur', 'fun', 'wearing', 'ur', 'ate', 'lot', 'food', 'girl', 'went', 'ur', 'house', 'made', 'think', 'dining', 'room', 'made', 'room', 'like', 'dance', 'room', 'dark', 'light', 'like', 'different', 'music', 'yeah', 'fun', 'laughter', 'cough', 'ur', 'person', 'k', 'one', 'day', 'last', 'week', 'walking', 'station', 'go', 'work', 'eight', 'oclock', 'since', 'early', 'morning', 'many', 'people', 'crowded', 'waiting', 'train', 'come', 'wait', 'waiting', 'train', 'come', 'behind', 'man', 'lining', 'well', 'talking', 'another', 'person', 'didnt', 'know', 'behind', 'arm', 'quite', 'hard', 'fast', 'luggage', 'holding', 'fell', 'tra', 'wait', 'trail', 'trail', 'oh', 'man', 'forgot', 'ur', 'fell', 'got', 'angry', 'start', 'yelling', 'man', 'man', 'said', 'dont', 'know', 'raised', 'well', 'ten', 'later', 'train', 'came', 'ran', 'thought', 'ran', 'luggage', 'thank', 'god', 'didnt', 'lying', 'like', 'train', 'got', 'cough', 'train', 'man', 'told', 'told', 'picked', 'gave', 'gave', 'luggage', 'everybody', 'happy', 'laughter', 'cough', 'go', 'ur', 'laughter', 'go', 'man', 'works', 'train', 'station', 'ask', 'lost', 'something', 'yeah', 'yes', 'maam', 'well', 'saw', 'two', 'fighting', 'train', 'like', 'month', 'ago', 'lost', 'pass', 'school', 'train', 'thought', 'someone', 'stole', 'found', 'like', 'fell', 'train', 'went', 'train', 'station', 'see', 'lost', 'laughter', 'got', 'back', 'thankful', 'laughter', 'yes', 'well', 'lived', 'didnt', 'time', 'car', 'transportation', 'get', 'school', 'took', 'bus', 'like', 'since', 'theyre', 'already', 'able', 'drive', 'yeah', 'drove', 'school', 'laughter', 'well', 'since', 'dont', 'like', 'prefer', 'one', 'like', 'like', 'prefer', 'really', 'um', 'useful', 'well', 'didnt', 'license', 'lived', 'family', 'sick', 'go', 'anywhere', 'although', 'like', 'sick', 'take', 'train', 'meet', 'yeah', 'guess', 'choose', 'car', 'ur', 'like', 'laughter', 'yes', 'laughter', 'able', 'eighteen', 'think', 'drive', 'expensive', 'dont', 'know', 'k', 'interview', 'going', 'home', 'laughter', 'laughter', 'going', 'home', 'eat', 'dinner', 'laughter', 'study', 'laughter', 'thank', 'laughter']\n",
      "\n",
      "Words of a file with score SST = 9 :\n",
      " ['good', 'afternoon', 'er', 'name', 'sure', 'laughter', 'thanks', 'really', 'choose', 'name', 'start', 'possible', 'like', 'pronounce', 'sniff', 'well', 'yeah', 'hate', 'laughter', 'used', 'live', 'like', 'sunny', 'weather', 'year', 'winter', 'doesnt', 'get', 'really', 'cold', 'like', 'lot', 'never', 'hate', 'laughter', 'lived', 'eleven', 'laughter', 'yeah', 'er', 'yeah', 'ur', 'wasnt', 'like', 'level', 'right', 'like', 'childish', 'kind', 'yeah', 'laughter', 'oh', 'yeah', 'read', 'star', 'actually', 'learned', 'hiragana', 'katakana', 'like', 'came', 'like', 'two', 'ago', 'laughter', 'really', 'tough', 'wouldnt', 'able', 'take', 'stuff', 'like', 'look', 'blackboard', 'see', 'didnt', 'look', 'like', 'yeah', 'laughter', 'yeah', 'lot', 'better', 'like', 'learned', 'lot', 'since', 'come', 'surround', 'people', 'speak', 'certain', 'language', 'like', 'young', 'like', 'tend', 'adapt', 'easily', 'dont', 'know', 'kind', 'caught', 'laughter', 'yeah', 'well', 'club', 'play', 'cello', 'ur', 'dont', 'usually', 'go', 'go', 'home', 'go', 'laughter', 'cello', 'dont', 'know', 'actually', 'like', 'one', 'favorite', 'like', 'notice', 'lot', 'um', 'background', 'music', 'would', 'involve', 'ur', 'express', 'sound', 'like', 'eeriness', 'creepiness', 'scene', 'got', 'interested', 'since', 'came', 'learned', 'could', 'learn', 'cello', 'said', 'hey', 'laughter', 'yeah', 'usually', 'ur', 'much', 'dont', 'know', 'like', 'study', 'read', 'lots', 'dont', 'know', 'trying', 'keep', 'come', 'dont', 'use', 'much', 'best', 'way', 'keep', 'read', 'talk', 'people', 'thats', 'trying', 'well', 'actually', 'bag', 'like', 'right', 'cradle', 'really', 'good', 'like', 'like', 'end', 'world', 'something', 'like', 'like', 'lot', 'like', 'yeah', 'laughter', 'well', 'dont', 'know', 'kind', 'break', 'reality', 'know', 'never', 'happen', 'like', 'like', 'make', 'ice', 'stuff', 'like', 'way', 'kind', 'maybe', 'like', 'future', 'yeah', 'virtually', 'k', 'k', 'describe', 'well', 'like', 'teacher', 'teaching', 'class', 'like', 'rowdy', 'rowdy', 'high', 'theyre', 'listening', 'word', 'saying', 'yeah', 'well', 'like', 'trying', 'teach', 'like', 'math', 'trying', 'teach', 'math', 'theyre', 'tend', 'like', 'one', 'looking', 'window', 'like', 'blowing', 'people', 'talking', 'stuff', 'like', 'one', 'person', 'front', 'really', 'hard', 'laughter', 'yeah', 'shall', 'describe', 'yeah', 'done', 'laughter', 'yeah', 'oh', 'well', 'laughter', 'dont', 'know', 'went', 'private', 'school', 'pretty', 'strict', 'private', 'school', 'dont', 'think', 'anyone', 'would', 'chew', 'gum', 'laughter', 'campus', 'one', 'would', 'gum', 'like', 'cell', 'didnt', 'cell', 'much', 'tell', 'truth', 'like', 'cell', 'color', 'much', 'like', 'tiny', 'thing', 'black', 'white', 'call', 'laughter', 'didnt', 'even', 'like', 'back', 'never', 'find', 'girl', 'like', 'cell', 'phone', 'like', 'dont', 'know', 'otherwise', 'quite', 'except', 'well', 'guy', 'li', 'listening', 'music', 'get', 'school', 'laughter', 'yeah', 'oh', 'like', 'lot', 'well', 'actually', 'grew', 'uniform', 'went', 'private', 'school', 'life', 'difference', 'uniform', 'like', 'went', 'ur', 'would', 'able', 'choose', 'youd', 'like', 'youd', 'wear', 'white', 'top', 'white', 'shirt', 'otherwise', 'wear', 'anything', 'khaki', 'could', 'wear', 'khaki', 'pants', 'khaki', 'skirt', 'anything', 'like', 'wear', 'blazer', 'wear', 'skirt', 'compare', 'lot', 'wear', 'colored', 'shirt', 'want', 'yeah', 'plus', 'theyre', 'strict', 'like', 'nail', 'polisher', 'stuff', 'like', 'laughter', 'yeah', 'k', 'k', 'kind', 'sure', 'like', 'explain', 'cant', 'come', 'party', 'sort', 'anything', 'k', 'see', 'ur', 'yeah', 'er', 'k', 'sure', 'hello', 'ur', 'calling', 'dinner', 'party', 'well', 'sorry', 'cant', 'come', 'party', 'tonight', 'ur', 'something', 'thats', 'kin', 'thats', 'control', 'able', 'make', 'laughter', 'really', 'sorry', 'happening', 'laughter', 'telling', 'situation', 'late', 'hope', 'able', 'put', 'future', 'laughter', 'well', 'laughter', 'car', 'broke', 'side', 'road', 'ur', 'yeah', 'yes', 'cant', 'seem', 'find', 'gas', 'station', 'thats', 'able', 'fix', 'radiator', 'yes', 'right', 'laughter', 'oh', 'well', 'ill', 'try', 'catch', 'bus', 'kind', 'adversative', 'like', 'public', 'transportation', 'cant', 'really', 'sorry', 'dont', 'think', 'ill', 'able', 'make', 'within', 'hour', 'thats', 'actually', 'good', 'idea', 'laughter', 'tell', 'corner', 'um', 'first', 'street', 'laughter', 'please', 'come', 'pick', 'gas', 'station', 'thats', 'possible', 'laughter', 'ill', 'try', 'laughter', 'k', 'laughter', 'ur', 'much', 'laughter', 'yeah', 'well', 'dont', 'know', 'theyre', 'k', 'usually', 'id', 'rather', 'stay', 'home', 'like', 'like', 'like', 'leave', 'afternoon', 'quietly', 'laughter', 'yeah', 'nice', 'like', 'group', 'people', 'like', 'smaller', 'group', 'id', 'like', 'like', 'maybe', 'four', 'five', 'ur', 'room', 'people', 'tend', 'feel', 'like', 'insecure', 'yeah', 'long', 'time', 'ago', 'like', 'thirteen', 'laughter', 'dont', 'know', 'youve', 'religion', 'turn', 'thirteen', 'party', 'like', 'like', 'become', 'adult', 'first', 'ceremony', 'becoming', 'pretty', 'commercial', 'like', 'materialistic', 'thing', 'party', 'right', 'big', 'audio', 'usually', 'hotel', 'something', 'last', 'one', 'went', 'like', 'big', 'hotel', 'theme', 'think', 'theme', 'like', 'like', 'sports', 'something', 'like', 'table', 'huge', 'thing', 'um', 'like', 'big', 'sequent', 'panel', 'like', 'caricature', 'sports', 'player', 'famous', 'player', 'like', 'could', 'jordan', 'something', 'like', 'everyone', 'like', 'would', 'wear', 'stuff', 'like', 'yeah', 'fun', 'though', 'right', 'k', 'one', 'day', 'last', 'week', 'k', 'start', 'start', 'like', 'right', 'moment', 'like', 'think', 'laughter', 'right', 'ur', 'one', 'day', 'last', 'week', 'two', 'maria', 'decided', 'go', 'nice', 'weather', 'car', 'like', 'normal', 'camp', 'like', 'ur', 'barbecue', 'package', 'tent', 'could', 'pop', 'place', 'think', 'national', 'park', 'decided', 'put', 'tent', 'got', 'stew', 'ready', 'fine', 'till', 'felt', 'rain', 'coming', 'panicked', 'saying', 'oh', 'god', 'theres', 'storm', 'coming', 'sister', 'like', 'oh', 'right', 'think', 'well', 'k', 'huge', 'cast', 'rain', 'came', 'actually', 'storm', 'blown', 'away', 'barbecue', 'rushed', 'car', 'sniff', 'drove', 'away', 'lightning', 'coming', 'pass', 'hotel', 'decided', 'well', 'since', 'cant', 'go', 'tonight', 'dont', 'stay', 'hotel', 'since', 'cant', 'go', 'home', 'stopped', 'hotel', 'quiet', 'evening', 'unfortunately', 'hotel', 'instead', 'enjoying', 'great', 'outdoors', 'laughter', 'yeah', 'well', 'good', 'like', 'know', 'nature', 'stuff', 'like', 'well', 'way', 'like', 'nature', 'laughter', 'dont', 'think', 'ever', 'go', 'laughter', 'dont', 'know', 'well', 'um', 'like', 'big', 'problem', 'like', 'like', 'well', 'ur', 'like', 'past', 'ur', 'like', 'couple', 'went', 'new', 'part', 'trip', 'go', 'beach', 'camp', 'really', 'tough', 'laughter', 'like', 'sleep', 'sand', 'around', 'like', 'really', 'unpleasant', 'like', 'big', 'relief', 'came', 'home', 'like', 'oh', 'finally', 'shower', 'laughter', 'yeah', 'visit', 'friend', 'mine', 'yeah', 'yeah', 'k', 'think', 'ill', 'head', 'home', 'think', 'write', 'essay', 'homework', 'yeah', 'laughter', 'thank', 'much', 'right']\n",
      "\n",
      "Words of a file with score SST = 1 :\n",
      " ['ur', 'name', 'k', 'eh', 'eh', 'oh', 'eh', 'um', 'wife', 'child', 'eh', 'one', 'old', 'oh', 'boy', 'eh', 'um', 'laughter', 'eh', 'laughter', 'everything', 'laughter', 'oh', 'businessman', 'eh', 'five', 'um', 'laughter', 'yes', 'eh', 'one', 'one', 'family', 'um', 'anything', 'oh', 'hum', 'piano', 'um', 'wine', 'drink', 'yes', 'um', 'ah', 'yes', 'eh', 'going', 'new', 'york', 'eh', 'train', 'laughter', 'eh', 'fifteen', 'fifteen', 'matta', 'fifteen', 'go', 'going', 'eh', 'want', 'ticket', 'please', 'laughter', 'one', 'express', 'train', 'eh', 'th', 'three', 'oclock', 'um', 'thanks', 'thank', 'eh', 'made', 'eh', 'tai', 'eh', 'see', 'eh', 'laughter', 'millennium', 'laughter', 'um', 'eh', 'pyramid', 'best', 'country', 'sphinx', 'laughter', 'animal', 'animal', 'ga', 'animal', 'circus', 'boy', 'girl', 'animal', 'circus', 'show', 'laughter', 'eh', 'watch', 'lion', 'watching', 'ha', 'boy', 'girl', 'laughter', 'girl', 'ice', 'cream', 'cheetah', 'cheetah', 'watching', 'laughter', 'ah', 'best', 'cat', 'pretty', 'working', 'thank']\n",
      "\n",
      "Words of a file with score SST = 1 :\n",
      " ['yeah', 'name', 'name', 'yes', 'laughter', 'er', 'er', 'city', 'er', 'train', 'yes', 'er', 'wife', 'er', 'child', 'ka', 'one', 'er', 'seven', 'old', 'er', 'baseball', 'er', 'yeah', 'er', 'yes', 'yes', 'er', 'school', 'school', 'high', 'school', 'junior', 'high', 'school', 'er', 'training', 'baseball', 'ah', 'baseball', 'laughter', 'audio', 'system', 'much', 'much', 'audio', 'system', 'er', 'three', 'oclock', 'oclock', 'television', 'laughter', 'audio', 'yes', 'yes', 'two', 'yes', 'er', 'house', 'two', 'television', 'yes', 'er', 'living', 'room', 'laughter', 'yes', 'yes', 'yes', 'kana', 'jazz', 'er', 'sax', 'drum', 'laughter', 'er', 'tape', 'recorder', 'much', 'er', 'one', 'laughter', 'two', 'price', 'ah', 'k', 'ah', 'card', 'er', 'express', 'thank', 'er', 'laughter', 'yes', 'wife', 'like', 'shopping', 'depart', 'wife', 'shopping', 'er', 'wife', 'going', 'shopping', 'pick', 'wife', 'laughter', 'cat', 'name', 'er', 'pic', 'picture', 'display', 'er', 'display', 'output', 'laughter', 'calendar', 'bed', 'door', 'er', 'open', 'cough', 'display', 'yes', 'consulting', 'consulting', 'er', 'consulting', 'er', 'information', 'technology', 'consulting', 'yes', 'er', 'yes', 'company', 'game', 'play', 'station', 'yes', 'best', 'good', 'yes', 'yes', 'yes', 'yes', 'yes', 'laughter', 'question']\n",
      "\n",
      "Words of a file with score SST = 1 :\n",
      " ['hei', 'family', 'father', 'laughter', 'old', 'err', 'father', 'old', 'name', 'father', 'yes', 'cough', 'company', 'part', 'yes', 'ski', 'eh', 'picture', 'picture', 'sniff', 'house', 'ski', 'house', 'friend', 'lift', 'ski', 'play', 'ski', 'yes', 'good', 'skier', 'yeah', 'like', 'like', 'play', 'hum', 'laughter', 'laughter', 'would', 'like', 'go', 'going', 'going', 'new', 'york', 'yeah', 'cough', 'today', 'today', 'yeah', 'ticket', 'sniff', 'bye', 'j', 'r', 'sniff', 'sniff', 'every', 'day', 'zoo', 'zoo', 'zoo', 'cough', 'nan', 'na', 'lion', 'friend', 'monkey', 'sniff', 'soft', 'cream', 'banana', 'bye', 'sniff', 'sniff', 'dog', 'yes', 'work', 'today', 'yes', 'going', 'company', 'station', 'um', 'laughter']\n"
     ]
    }
   ],
   "source": [
    "dict_database = database.items()\n",
    "compteur_1 = 0 # sst = 1\n",
    "compteur_2 = 0 # sst = 4\n",
    "compteur_3 = 0 ## sst = 9\n",
    "\n",
    "for file in dict_database : # browse all the files\n",
    "    sst = int(file[1][1])\n",
    "    if sst == 1 and compteur_1 < 3: \n",
    "        words = list(file[1][0]) #  because dictionnary = {file, [[all, words], level SST]}\n",
    "        print(\"\\nWords of a file with score SST = 1 :\\n\", words)\n",
    "        compteur_1 += 1\n",
    "    if sst == 4 and compteur_2 < 3 :\n",
    "        words = list(file[1][0])\n",
    "        print(\"\\nWords of a file with score SST = 4 :\\n\", words)\n",
    "        compteur_2 += 1\n",
    "    if sst == 9 and compteur_3 < 3 :\n",
    "        words = list(file[1][0])\n",
    "        print(\"\\nWords of a file with score SST = 9 :\\n\", words)\n",
    "        compteur_3 += 1"
   ]
  },
  {
   "cell_type": "markdown",
   "metadata": {},
   "source": [
    "**On peut voir qu'il y a beacuoup d'utilisations de mots tel que : er, um, ah, eh, oh, ur, err..  \n",
    "De plus, on peut voir que plus le score SST est grand plus le fichier de mots est grand, et le nombre de mots différents d'utilisations est plus nombreux.**"
   ]
  },
  {
   "cell_type": "code",
   "execution_count": 18,
   "metadata": {},
   "outputs": [
    {
     "name": "stdout",
     "output_type": "stream",
     "text": [
      "Nombre d'occurences de mots hésitants sur le nombre total pour chaque fichier de score SST = 1 :  [0.28, 0.19, 0.04]\n"
     ]
    }
   ],
   "source": [
    "hesitate_words = [\"er\", \"um\", \"ah\", \"eh\", \"oh\", \"ur\", \"err\"]\n",
    "occurences_1 = []\n",
    "occurences_2 = []\n",
    "occurences_3 = []\n",
    "nbFile_1 = 0\n",
    "nbFile_2 = 0\n",
    "nbFile_3 = 0\n",
    "for file in dict_database : \n",
    "    sst = int(file[1][1])\n",
    "    if sst == 1 and nbFile_1 <= 9 :\n",
    "        nbFile_1 +=1\n",
    "        words = list(file[1][0])\n",
    "        compteur = 0\n",
    "        for word in words : \n",
    "            if word in hesitate_words :\n",
    "                compteur += 1\n",
    "        occurences_1.append(round(compteur/len(words), 2))\n",
    "        \n",
    "    if sst == 4 and nbFile_2 <= 9:\n",
    "        nbFile_2 +=1\n",
    "        words = list(file[1][0])\n",
    "        compteur = 0\n",
    "        for word in words : \n",
    "            if word in hesitate_words :\n",
    "                compteur += 1\n",
    "        occurences_2.append(round(compteur/len(words), 2))\n",
    "        \n",
    "    if sst == 9 and nbFile_3 <= 9::\n",
    "        nbFile_3 +=1\n",
    "        words = list(file[1][0])\n",
    "        compteur = 0\n",
    "        for word in words : \n",
    "            if word in hesitate_words :\n",
    "                compteur += 1\n",
    "        occurences_3.append(round(compteur/len(words), 2))\n",
    "print(\"Nombre d'occurences de mots hésitants sur le nombre total pour chaque fichier de score SST = 1 : \", occurences_1)\n",
    "print(\"Nombre d'occurences de mots hésitants sur le nombre total pour chaque fichier de score SST = 4 : \", occurences_2)\n",
    "rint(\"Nombre d'occurences de mots hésitants sur le nombre total pour chaque fichier de score SST = 9 : \", occurences_3)"
   ]
  },
  {
   "cell_type": "code",
   "execution_count": null,
   "metadata": {},
   "outputs": [],
   "source": []
  }
 ],
 "metadata": {
  "kernelspec": {
   "display_name": "Python 3",
   "language": "python",
   "name": "python3"
  },
  "language_info": {
   "codemirror_mode": {
    "name": "ipython",
    "version": 3
   },
   "file_extension": ".py",
   "mimetype": "text/x-python",
   "name": "python",
   "nbconvert_exporter": "python",
   "pygments_lexer": "ipython3",
   "version": "3.6.12"
  }
 },
 "nbformat": 4,
 "nbformat_minor": 4
}
